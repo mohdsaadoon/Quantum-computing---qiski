{
  "cells": [
    {
      "cell_type": "markdown",
      "source": [
        "# Quantum Computing with Quantum Tic-tac-toe and Classical Tic-tca-toc\n",
        "\n",
        "*by [Mohammad Sa'adoon](Mohammadkhalil.m.saadoon@student.uts.edu.au)*\n",
        "\n",
        "This notebook covers two types of ticactoe games, classic and quantum. You will first complete the Qiskit installation  and import other libraries, then start creating a classic model and outline how each of these functions works; it will also refer to a Quantum model."
      ],
      "metadata": {
        "id": "k5lg7mbL3F1p"
      }
    },
    {
      "cell_type": "markdown",
      "source": [
        "#Install the Qiskit  \n",
        "\n",
        "Firstly, I will install Qiskit and here are the installation instructions and the documentation provided by Qiskit here click the link below.\n",
        "https://qiskit.org/documentation/install.html.\n"
      ],
      "metadata": {
        "id": "uQcHhKqx5AAG"
      }
    },
    {
      "cell_type": "code",
      "execution_count": null,
      "metadata": {
        "colab": {
          "base_uri": "https://localhost:8080/"
        },
        "id": "WAR4IuYFaZGC",
        "outputId": "91abc4c4-05cd-4619-dbc1-9503dbdaf6ef"
      },
      "outputs": [
        {
          "output_type": "stream",
          "name": "stdout",
          "text": [
            "Collecting qiskit\n",
            "  Downloading qiskit-0.36.1.tar.gz (13 kB)\n",
            "Collecting qiskit-terra==0.20.1\n",
            "  Downloading qiskit_terra-0.20.1-cp37-cp37m-manylinux_2_17_x86_64.manylinux2014_x86_64.whl (6.5 MB)\n",
            "\u001b[K     |████████████████████████████████| 6.5 MB 8.3 MB/s \n",
            "\u001b[?25hCollecting qiskit-aer==0.10.4\n",
            "  Downloading qiskit_aer-0.10.4-cp37-cp37m-manylinux_2_12_x86_64.manylinux2010_x86_64.whl (18.0 MB)\n",
            "\u001b[K     |████████████████████████████████| 18.0 MB 281 kB/s \n",
            "\u001b[?25hCollecting qiskit-ibmq-provider==0.19.1\n",
            "  Downloading qiskit_ibmq_provider-0.19.1-py3-none-any.whl (240 kB)\n",
            "\u001b[K     |████████████████████████████████| 240 kB 47.9 MB/s \n",
            "\u001b[?25hCollecting qiskit-ignis==0.7.0\n",
            "  Downloading qiskit_ignis-0.7.0-py3-none-any.whl (200 kB)\n",
            "\u001b[K     |████████████████████████████████| 200 kB 51.5 MB/s \n",
            "\u001b[?25hRequirement already satisfied: scipy>=1.0 in /usr/local/lib/python3.7/dist-packages (from qiskit-aer==0.10.4->qiskit) (1.4.1)\n",
            "Requirement already satisfied: numpy>=1.16.3 in /usr/local/lib/python3.7/dist-packages (from qiskit-aer==0.10.4->qiskit) (1.21.6)\n",
            "Collecting requests-ntlm>=1.1.0\n",
            "  Downloading requests_ntlm-1.1.0-py2.py3-none-any.whl (5.7 kB)\n",
            "Collecting websocket-client>=1.0.1\n",
            "  Downloading websocket_client-1.3.2-py3-none-any.whl (54 kB)\n",
            "\u001b[K     |████████████████████████████████| 54 kB 2.4 MB/s \n",
            "\u001b[?25hCollecting websockets>=10.0\n",
            "  Downloading websockets-10.3-cp37-cp37m-manylinux_2_5_x86_64.manylinux1_x86_64.manylinux_2_12_x86_64.manylinux2010_x86_64.whl (112 kB)\n",
            "\u001b[K     |████████████████████████████████| 112 kB 56.7 MB/s \n",
            "\u001b[?25hRequirement already satisfied: urllib3>=1.21.1 in /usr/local/lib/python3.7/dist-packages (from qiskit-ibmq-provider==0.19.1->qiskit) (1.24.3)\n",
            "Requirement already satisfied: requests>=2.19 in /usr/local/lib/python3.7/dist-packages (from qiskit-ibmq-provider==0.19.1->qiskit) (2.23.0)\n",
            "Requirement already satisfied: python-dateutil>=2.8.0 in /usr/local/lib/python3.7/dist-packages (from qiskit-ibmq-provider==0.19.1->qiskit) (2.8.2)\n",
            "Requirement already satisfied: setuptools>=40.1.0 in /usr/local/lib/python3.7/dist-packages (from qiskit-ignis==0.7.0->qiskit) (57.4.0)\n",
            "Collecting retworkx>=0.8.0\n",
            "  Downloading retworkx-0.11.0-cp37-cp37m-manylinux_2_5_x86_64.manylinux1_x86_64.manylinux_2_12_x86_64.manylinux2010_x86_64.whl (1.6 MB)\n",
            "\u001b[K     |████████████████████████████████| 1.6 MB 44.3 MB/s \n",
            "\u001b[?25hRequirement already satisfied: psutil>=5 in /usr/local/lib/python3.7/dist-packages (from qiskit-terra==0.20.1->qiskit) (5.4.8)\n",
            "Collecting scipy>=1.0\n",
            "  Downloading scipy-1.7.3-cp37-cp37m-manylinux_2_12_x86_64.manylinux2010_x86_64.whl (38.1 MB)\n",
            "\u001b[K     |████████████████████████████████| 38.1 MB 1.3 MB/s \n",
            "\u001b[?25hCollecting stevedore>=3.0.0\n",
            "  Downloading stevedore-3.5.0-py3-none-any.whl (49 kB)\n",
            "\u001b[K     |████████████████████████████████| 49 kB 5.4 MB/s \n",
            "\u001b[?25hCollecting tweedledum<2.0,>=1.1\n",
            "  Downloading tweedledum-1.1.1-cp37-cp37m-manylinux_2_12_x86_64.manylinux2010_x86_64.whl (943 kB)\n",
            "\u001b[K     |████████████████████████████████| 943 kB 31.4 MB/s \n",
            "\u001b[?25hCollecting ply>=3.10\n",
            "  Downloading ply-3.11-py2.py3-none-any.whl (49 kB)\n",
            "\u001b[K     |████████████████████████████████| 49 kB 4.6 MB/s \n",
            "\u001b[?25hRequirement already satisfied: sympy>=1.3 in /usr/local/lib/python3.7/dist-packages (from qiskit-terra==0.20.1->qiskit) (1.7.1)\n",
            "Requirement already satisfied: dill>=0.3 in /usr/local/lib/python3.7/dist-packages (from qiskit-terra==0.20.1->qiskit) (0.3.4)\n",
            "Collecting python-constraint>=1.4\n",
            "  Downloading python-constraint-1.4.0.tar.bz2 (18 kB)\n",
            "Collecting symengine>=0.9\n",
            "  Downloading symengine-0.9.2-cp37-cp37m-manylinux2010_x86_64.whl (37.5 MB)\n",
            "\u001b[K     |████████████████████████████████| 37.5 MB 7.9 MB/s \n",
            "\u001b[?25hRequirement already satisfied: six>=1.5 in /usr/local/lib/python3.7/dist-packages (from python-dateutil>=2.8.0->qiskit-ibmq-provider==0.19.1->qiskit) (1.15.0)\n",
            "Requirement already satisfied: certifi>=2017.4.17 in /usr/local/lib/python3.7/dist-packages (from requests>=2.19->qiskit-ibmq-provider==0.19.1->qiskit) (2021.10.8)\n",
            "Requirement already satisfied: chardet<4,>=3.0.2 in /usr/local/lib/python3.7/dist-packages (from requests>=2.19->qiskit-ibmq-provider==0.19.1->qiskit) (3.0.4)\n",
            "Requirement already satisfied: idna<3,>=2.5 in /usr/local/lib/python3.7/dist-packages (from requests>=2.19->qiskit-ibmq-provider==0.19.1->qiskit) (2.10)\n",
            "Collecting ntlm-auth>=1.0.2\n",
            "  Downloading ntlm_auth-1.5.0-py2.py3-none-any.whl (29 kB)\n",
            "Collecting cryptography>=1.3\n",
            "  Downloading cryptography-36.0.2-cp36-abi3-manylinux_2_24_x86_64.whl (3.6 MB)\n",
            "\u001b[K     |████████████████████████████████| 3.6 MB 40.9 MB/s \n",
            "\u001b[?25hRequirement already satisfied: cffi>=1.12 in /usr/local/lib/python3.7/dist-packages (from cryptography>=1.3->requests-ntlm>=1.1.0->qiskit-ibmq-provider==0.19.1->qiskit) (1.15.0)\n",
            "Requirement already satisfied: pycparser in /usr/local/lib/python3.7/dist-packages (from cffi>=1.12->cryptography>=1.3->requests-ntlm>=1.1.0->qiskit-ibmq-provider==0.19.1->qiskit) (2.21)\n",
            "Collecting pbr!=2.1.0,>=2.0.0\n",
            "  Downloading pbr-5.8.1-py2.py3-none-any.whl (113 kB)\n",
            "\u001b[K     |████████████████████████████████| 113 kB 70.0 MB/s \n",
            "\u001b[?25hRequirement already satisfied: importlib-metadata>=1.7.0 in /usr/local/lib/python3.7/dist-packages (from stevedore>=3.0.0->qiskit-terra==0.20.1->qiskit) (4.11.3)\n",
            "Requirement already satisfied: typing-extensions>=3.6.4 in /usr/local/lib/python3.7/dist-packages (from importlib-metadata>=1.7.0->stevedore>=3.0.0->qiskit-terra==0.20.1->qiskit) (4.2.0)\n",
            "Requirement already satisfied: zipp>=0.5 in /usr/local/lib/python3.7/dist-packages (from importlib-metadata>=1.7.0->stevedore>=3.0.0->qiskit-terra==0.20.1->qiskit) (3.8.0)\n",
            "Requirement already satisfied: mpmath>=0.19 in /usr/local/lib/python3.7/dist-packages (from sympy>=1.3->qiskit-terra==0.20.1->qiskit) (1.2.1)\n",
            "Building wheels for collected packages: qiskit, python-constraint\n",
            "  Building wheel for qiskit (setup.py) ... \u001b[?25l\u001b[?25hdone\n",
            "  Created wheel for qiskit: filename=qiskit-0.36.1-py3-none-any.whl size=11887 sha256=17416cd63a53a4d91085c996965cdc9b5f850ce7dc489f1176f9386799c254c8\n",
            "  Stored in directory: /root/.cache/pip/wheels/16/d2/58/340c0b0c7701a58b596126e5eb31c347c8dbfda8b949a555bd\n",
            "  Building wheel for python-constraint (setup.py) ... \u001b[?25l\u001b[?25hdone\n",
            "  Created wheel for python-constraint: filename=python_constraint-1.4.0-py2.py3-none-any.whl size=24081 sha256=bdf0eaf4b214ac3b50eeec4fbd8a5c0bac52ae2b45eee12b84a77912adc42887\n",
            "  Stored in directory: /root/.cache/pip/wheels/07/27/db/1222c80eb1e431f3d2199c12569cb1cac60f562a451fe30479\n",
            "Successfully built qiskit python-constraint\n",
            "Installing collected packages: pbr, tweedledum, symengine, stevedore, scipy, retworkx, python-constraint, ply, ntlm-auth, cryptography, websockets, websocket-client, requests-ntlm, qiskit-terra, qiskit-ignis, qiskit-ibmq-provider, qiskit-aer, qiskit\n",
            "  Attempting uninstall: scipy\n",
            "    Found existing installation: scipy 1.4.1\n",
            "    Uninstalling scipy-1.4.1:\n",
            "      Successfully uninstalled scipy-1.4.1\n",
            "\u001b[31mERROR: pip's dependency resolver does not currently take into account all the packages that are installed. This behaviour is the source of the following dependency conflicts.\n",
            "albumentations 0.1.12 requires imgaug<0.2.7,>=0.2.5, but you have imgaug 0.2.9 which is incompatible.\u001b[0m\n",
            "Successfully installed cryptography-36.0.2 ntlm-auth-1.5.0 pbr-5.8.1 ply-3.11 python-constraint-1.4.0 qiskit-0.36.1 qiskit-aer-0.10.4 qiskit-ibmq-provider-0.19.1 qiskit-ignis-0.7.0 qiskit-terra-0.20.1 requests-ntlm-1.1.0 retworkx-0.11.0 scipy-1.7.3 stevedore-3.5.0 symengine-0.9.2 tweedledum-1.1.1 websocket-client-1.3.2 websockets-10.3\n",
            "Collecting pylatexenc\n",
            "  Downloading pylatexenc-2.10.tar.gz (162 kB)\n",
            "\u001b[K     |████████████████████████████████| 162 kB 7.2 MB/s \n",
            "\u001b[?25hBuilding wheels for collected packages: pylatexenc\n",
            "  Building wheel for pylatexenc (setup.py) ... \u001b[?25l\u001b[?25hdone\n",
            "  Created wheel for pylatexenc: filename=pylatexenc-2.10-py3-none-any.whl size=136835 sha256=fbba1b70fe7f01308451bfad3010d8da1209143061072f17859feb03a5ee059a\n",
            "  Stored in directory: /root/.cache/pip/wheels/f1/8a/f5/33ee79d4473eb201b519fa40f989b842e373237395a3421f52\n",
            "Successfully built pylatexenc\n",
            "Installing collected packages: pylatexenc\n",
            "Successfully installed pylatexenc-2.10\n"
          ]
        }
      ],
      "source": [
        "#install Qiskit\n",
        "!pip install qiskit\n",
        "!pip install pylatexenc \n",
        "\n"
      ]
    },
    {
      "cell_type": "markdown",
      "source": [
        "Import qiskit and some other necessary libraries that might be need them in the implementation. "
      ],
      "metadata": {
        "id": "VNHW_tl6SFmx"
      }
    },
    {
      "cell_type": "code",
      "execution_count": null,
      "metadata": {
        "id": "DdYkUCiipb65"
      },
      "outputs": [],
      "source": [
        "\n",
        "#import necessary modules\n",
        "from qiskit import QuantumCircuit, QuantumRegister, ClassicalRegister\n",
        "from qiskit import execute, assemble, BasicAer\n",
        "from qiskit.visualization import plot_histogram\n",
        "from qiskit.tools.monitor import job_monitor\n",
        "from qiskit import *\n",
        "from qiskit.visualization import plot_histogram\n",
        "from google.colab import widgets\n",
        "from __future__ import print_function\n",
        "from ipywidgets import interact, interactive, fixed, interact_manual, Button, Layout\n",
        "import ipywidgets\n",
        "import pandas as pd\n",
        "import math\n",
        "import numpy as np\n",
        "import random\n",
        "from IPython.display import clear_output"
      ]
    },
    {
      "cell_type": "markdown",
      "source": [
        "#Classical model\n",
        "\n",
        "You're now starting to create a classic TicTacToe game using Python that doesn't need a library. However, we will need some features to make it easier. \n",
        "To play  TicTacToe  we need a board. Our first method will be display_board. This method replaces the pad with  X or O after each round, depending on the player's choice.\n"
      ],
      "metadata": {
        "id": "rMOVY0pLSxBV"
      }
    },
    {
      "cell_type": "code",
      "source": [
        "def display_board(board):\n",
        "    blankBoard=\"\"\"\n",
        "___________________\n",
        "|     |     |     |\n",
        "|  7  |  8  |  9  |\n",
        "|     |     |     |\n",
        "|-----------------|\n",
        "|     |     |     |\n",
        "|  4  |  5  |  6  |\n",
        "|     |     |     |\n",
        "|-----------------|\n",
        "|     |     |     |\n",
        "|  1  |  2  |  3  |\n",
        "|     |     |     |\n",
        "|-----------------|\n",
        "\"\"\"\n",
        "\n",
        "    for i in range(1,10):\n",
        "        if (board[i] == 'O' or board[i] == 'X'):\n",
        "            blankBoard = blankBoard.replace(str(i), board[i])\n",
        "        else:\n",
        "            blankBoard = blankBoard.replace(str(i), ' ')\n",
        "    print(blankBoard)"
      ],
      "metadata": {
        "id": "zF3xbbP4x_YY"
      },
      "execution_count": null,
      "outputs": []
    },
    {
      "cell_type": "markdown",
      "source": [
        "The player is then prompted to choose the  marker they need to start the game, either X/x or O/o. If the user does not add x or o, the function should prompt again."
      ],
      "metadata": {
        "id": "-n-uQ_k5X-cs"
      }
    },
    {
      "cell_type": "code",
      "source": [
        "def player_input():\n",
        "    player1 = input(\"Please pick a marker 'X' or 'O' \")\n",
        "    while True:\n",
        "        if player1.upper() == 'X':\n",
        "            player2='O'\n",
        "            print(\"You've choosen \" + player1 + \". Player 2 will be \" + player2)\n",
        "            return player1.upper(),player2\n",
        "        elif player1.upper() == 'O':\n",
        "            player2='X'\n",
        "            print(\"You've choosen \" + player1 + \". Player 2 will be \" + player2)\n",
        "            return player1.upper(),player2\n",
        "        else:\n",
        "            player1 = input(\"Please pick a marker 'X' or 'O' \")\n"
      ],
      "metadata": {
        "id": "PCUbdD4r9IH-"
      },
      "execution_count": null,
      "outputs": []
    },
    {
      "cell_type": "markdown",
      "source": [
        "Now I will ask the player for the correct location using the space_check function  and check if the location is empty or not. In addition, the **full_board_check** function checks whether the board is full. The **player_choice** method checks whether the slot is empty or not and still prompts the user to insert a valid flag."
      ],
      "metadata": {
        "id": "-Dmof4Zhm3Ss"
      }
    },
    {
      "cell_type": "code",
      "source": [
        "def place_marker(board, marker, position):\n",
        "    board[position] = marker\n",
        "    return board\n",
        "\n",
        "def space_check(board, position):\n",
        "    return board[position] == '#'\n",
        "\n",
        "def full_board_check(board):\n",
        "    return len([x for x in board if x == '#']) == 1\n",
        "\n",
        "def player_choice(board):\n",
        "    choice = input(\"Please select an empty space between 1 and 9 : \")\n",
        "    while not space_check(board, int(choice)):\n",
        "        choice = input(\"This space isn't free. Please choose between 1 and 9 : \")\n",
        "    return choice"
      ],
      "metadata": {
        "id": "LZ_TJA4e9ocE"
      },
      "execution_count": null,
      "outputs": []
    },
    {
      "cell_type": "markdown",
      "source": [
        "Hearafter,to check the winning condation by checking if the line or diagonal with the same mark.  "
      ],
      "metadata": {
        "id": "jkqERXBdpZHf"
      }
    },
    {
      "cell_type": "code",
      "source": [
        "def win_check(board, mark):\n",
        "    if board[1] == board[2] == board[3] == mark:# across the top\n",
        "        return True\n",
        "    if board[4] == board[5] == board[6] == mark:# across the middle\n",
        "        return True\n",
        "    if board[7] == board[8] == board[9] == mark:# across the bottom\n",
        "        return True\n",
        "    if board[1] == board[4] == board[7] == mark:# down the left side\n",
        "        return True\n",
        "    if board[2] == board[5] == board[8] == mark:# down the middle\n",
        "        return True\n",
        "    if board[3] == board[6] == board[9] == mark:# down the right side\n",
        "        return True\n",
        "    if board[1] == board[5] == board[9] == mark:# diagonal\n",
        "        return True\n",
        "    if board[3] == board[5] == board[7] == mark:# diagonal\n",
        "        return True\n",
        "    return False"
      ],
      "metadata": {
        "id": "8Gq6wq6p9weE"
      },
      "execution_count": null,
      "outputs": []
    },
    {
      "cell_type": "markdown",
      "source": [
        "Our last function **replay** will asking the uuser if they want to play another game."
      ],
      "metadata": {
        "id": "IW7UaS5Ita5W"
      }
    },
    {
      "cell_type": "code",
      "source": [
        "def replay():\n",
        "    playAgain = input(\"Do you want to play again (y/n) ? \")\n",
        "    if playAgain.lower() == 'y':\n",
        "        return True\n",
        "    if playAgain.lower() == 'n':\n",
        "        return False\n",
        "\n"
      ],
      "metadata": {
        "id": "ZyrrC0dwqhCL"
      },
      "execution_count": null,
      "outputs": []
    },
    {
      "cell_type": "markdown",
      "source": [
        "Now in the main function it takes the player's input  and select what it wants X/x or O/o, then it checks whether the input is valid to move or not, after that it refers win condition as good when the board is full."
      ],
      "metadata": {
        "id": "djShS9Oyt0Jo"
      }
    },
    {
      "cell_type": "code",
      "source": [
        "if __name__ == \"__main__\":\n",
        "    print('Welcome to Tic Tac Toe!')\n",
        "    i = 1\n",
        "    # Choose your side\n",
        "    players=player_input()\n",
        "    # Empty board init\n",
        "    board = ['#'] * 109\n",
        "    \n",
        "    \n",
        "    while True:\n",
        "        # Set the game up here\n",
        "        game_on=full_board_check(board)\n",
        "        while not game_on:\n",
        "            # Player to choose where to put the mark\n",
        "            position = player_choice(board)\n",
        "            # Who's playin ?\n",
        "            if i % 2 == 0:\n",
        "                marker = players[1]\n",
        "            else:\n",
        "                marker = players[0]\n",
        "            # Play !\n",
        "            place_marker(board, marker, int(position))\n",
        "            # Check the board\n",
        "            display_board(board)\n",
        "            i += 1\n",
        "            if win_check(board, marker):\n",
        "                print(\"You won !\")\n",
        "                break\n",
        "            game_on=full_board_check(board)\n",
        "        if not replay():\n",
        "            break\n",
        "        else:\n",
        "            i = 1\n",
        "            # Choose your side\n",
        "            players=player_input()\n",
        "            # Empty board init\n",
        "            board = ['#'] * 10"
      ],
      "metadata": {
        "colab": {
          "base_uri": "https://localhost:8080/",
          "height": 537
        },
        "id": "vM6GOj7Aqm8R",
        "outputId": "4d321c5a-6e15-4529-adca-a9e123fe4d50"
      },
      "execution_count": null,
      "outputs": [
        {
          "output_type": "error",
          "ename": "KeyboardInterrupt",
          "evalue": "ignored",
          "traceback": [
            "\u001b[0;31m---------------------------------------------------------------------------\u001b[0m",
            "\u001b[0;31mKeyboardInterrupt\u001b[0m                         Traceback (most recent call last)",
            "\u001b[0;32m/usr/local/lib/python3.7/dist-packages/ipykernel/kernelbase.py\u001b[0m in \u001b[0;36m_input_request\u001b[0;34m(self, prompt, ident, parent, password)\u001b[0m\n\u001b[1;32m    728\u001b[0m             \u001b[0;32mtry\u001b[0m\u001b[0;34m:\u001b[0m\u001b[0;34m\u001b[0m\u001b[0;34m\u001b[0m\u001b[0m\n\u001b[0;32m--> 729\u001b[0;31m                 \u001b[0mident\u001b[0m\u001b[0;34m,\u001b[0m \u001b[0mreply\u001b[0m \u001b[0;34m=\u001b[0m \u001b[0mself\u001b[0m\u001b[0;34m.\u001b[0m\u001b[0msession\u001b[0m\u001b[0;34m.\u001b[0m\u001b[0mrecv\u001b[0m\u001b[0;34m(\u001b[0m\u001b[0mself\u001b[0m\u001b[0;34m.\u001b[0m\u001b[0mstdin_socket\u001b[0m\u001b[0;34m,\u001b[0m \u001b[0;36m0\u001b[0m\u001b[0;34m)\u001b[0m\u001b[0;34m\u001b[0m\u001b[0;34m\u001b[0m\u001b[0m\n\u001b[0m\u001b[1;32m    730\u001b[0m             \u001b[0;32mexcept\u001b[0m \u001b[0mException\u001b[0m\u001b[0;34m:\u001b[0m\u001b[0;34m\u001b[0m\u001b[0;34m\u001b[0m\u001b[0m\n",
            "\u001b[0;32m/usr/local/lib/python3.7/dist-packages/jupyter_client/session.py\u001b[0m in \u001b[0;36mrecv\u001b[0;34m(self, socket, mode, content, copy)\u001b[0m\n\u001b[1;32m    802\u001b[0m         \u001b[0;32mtry\u001b[0m\u001b[0;34m:\u001b[0m\u001b[0;34m\u001b[0m\u001b[0;34m\u001b[0m\u001b[0m\n\u001b[0;32m--> 803\u001b[0;31m             \u001b[0mmsg_list\u001b[0m \u001b[0;34m=\u001b[0m \u001b[0msocket\u001b[0m\u001b[0;34m.\u001b[0m\u001b[0mrecv_multipart\u001b[0m\u001b[0;34m(\u001b[0m\u001b[0mmode\u001b[0m\u001b[0;34m,\u001b[0m \u001b[0mcopy\u001b[0m\u001b[0;34m=\u001b[0m\u001b[0mcopy\u001b[0m\u001b[0;34m)\u001b[0m\u001b[0;34m\u001b[0m\u001b[0;34m\u001b[0m\u001b[0m\n\u001b[0m\u001b[1;32m    804\u001b[0m         \u001b[0;32mexcept\u001b[0m \u001b[0mzmq\u001b[0m\u001b[0;34m.\u001b[0m\u001b[0mZMQError\u001b[0m \u001b[0;32mas\u001b[0m \u001b[0me\u001b[0m\u001b[0;34m:\u001b[0m\u001b[0;34m\u001b[0m\u001b[0;34m\u001b[0m\u001b[0m\n",
            "\u001b[0;32m/usr/local/lib/python3.7/dist-packages/zmq/sugar/socket.py\u001b[0m in \u001b[0;36mrecv_multipart\u001b[0;34m(self, flags, copy, track)\u001b[0m\n\u001b[1;32m    624\u001b[0m         \"\"\"\n\u001b[0;32m--> 625\u001b[0;31m         \u001b[0mparts\u001b[0m \u001b[0;34m=\u001b[0m \u001b[0;34m[\u001b[0m\u001b[0mself\u001b[0m\u001b[0;34m.\u001b[0m\u001b[0mrecv\u001b[0m\u001b[0;34m(\u001b[0m\u001b[0mflags\u001b[0m\u001b[0;34m,\u001b[0m \u001b[0mcopy\u001b[0m\u001b[0;34m=\u001b[0m\u001b[0mcopy\u001b[0m\u001b[0;34m,\u001b[0m \u001b[0mtrack\u001b[0m\u001b[0;34m=\u001b[0m\u001b[0mtrack\u001b[0m\u001b[0;34m)\u001b[0m\u001b[0;34m]\u001b[0m\u001b[0;34m\u001b[0m\u001b[0;34m\u001b[0m\u001b[0m\n\u001b[0m\u001b[1;32m    626\u001b[0m         \u001b[0;31m# have first part already, only loop while more to receive\u001b[0m\u001b[0;34m\u001b[0m\u001b[0;34m\u001b[0m\u001b[0;34m\u001b[0m\u001b[0m\n",
            "\u001b[0;32mzmq/backend/cython/socket.pyx\u001b[0m in \u001b[0;36mzmq.backend.cython.socket.Socket.recv\u001b[0;34m()\u001b[0m\n",
            "\u001b[0;32mzmq/backend/cython/socket.pyx\u001b[0m in \u001b[0;36mzmq.backend.cython.socket.Socket.recv\u001b[0;34m()\u001b[0m\n",
            "\u001b[0;32mzmq/backend/cython/socket.pyx\u001b[0m in \u001b[0;36mzmq.backend.cython.socket._recv_copy\u001b[0;34m()\u001b[0m\n",
            "\u001b[0;32m/usr/local/lib/python3.7/dist-packages/zmq/backend/cython/checkrc.pxd\u001b[0m in \u001b[0;36mzmq.backend.cython.checkrc._check_rc\u001b[0;34m()\u001b[0m\n",
            "\u001b[0;31mKeyboardInterrupt\u001b[0m: ",
            "\nDuring handling of the above exception, another exception occurred:\n",
            "\u001b[0;31mKeyboardInterrupt\u001b[0m                         Traceback (most recent call last)",
            "\u001b[0;32m<ipython-input-8-02a0d175c6b4>\u001b[0m in \u001b[0;36m<module>\u001b[0;34m()\u001b[0m\n\u001b[1;32m     13\u001b[0m         \u001b[0;32mwhile\u001b[0m \u001b[0;32mnot\u001b[0m \u001b[0mgame_on\u001b[0m\u001b[0;34m:\u001b[0m\u001b[0;34m\u001b[0m\u001b[0;34m\u001b[0m\u001b[0m\n\u001b[1;32m     14\u001b[0m             \u001b[0;31m# Player to choose where to put the mark\u001b[0m\u001b[0;34m\u001b[0m\u001b[0;34m\u001b[0m\u001b[0;34m\u001b[0m\u001b[0m\n\u001b[0;32m---> 15\u001b[0;31m             \u001b[0mposition\u001b[0m \u001b[0;34m=\u001b[0m \u001b[0mplayer_choice\u001b[0m\u001b[0;34m(\u001b[0m\u001b[0mboard\u001b[0m\u001b[0;34m)\u001b[0m\u001b[0;34m\u001b[0m\u001b[0;34m\u001b[0m\u001b[0m\n\u001b[0m\u001b[1;32m     16\u001b[0m             \u001b[0;31m# Who's playin ?\u001b[0m\u001b[0;34m\u001b[0m\u001b[0;34m\u001b[0m\u001b[0;34m\u001b[0m\u001b[0m\n\u001b[1;32m     17\u001b[0m             \u001b[0;32mif\u001b[0m \u001b[0mi\u001b[0m \u001b[0;34m%\u001b[0m \u001b[0;36m2\u001b[0m \u001b[0;34m==\u001b[0m \u001b[0;36m0\u001b[0m\u001b[0;34m:\u001b[0m\u001b[0;34m\u001b[0m\u001b[0;34m\u001b[0m\u001b[0m\n",
            "\u001b[0;32m<ipython-input-5-7744ef28e0e5>\u001b[0m in \u001b[0;36mplayer_choice\u001b[0;34m(board)\u001b[0m\n\u001b[1;32m     10\u001b[0m \u001b[0;34m\u001b[0m\u001b[0m\n\u001b[1;32m     11\u001b[0m \u001b[0;32mdef\u001b[0m \u001b[0mplayer_choice\u001b[0m\u001b[0;34m(\u001b[0m\u001b[0mboard\u001b[0m\u001b[0;34m)\u001b[0m\u001b[0;34m:\u001b[0m\u001b[0;34m\u001b[0m\u001b[0;34m\u001b[0m\u001b[0m\n\u001b[0;32m---> 12\u001b[0;31m     \u001b[0mchoice\u001b[0m \u001b[0;34m=\u001b[0m \u001b[0minput\u001b[0m\u001b[0;34m(\u001b[0m\u001b[0;34m\"Please select an empty space between 1 and 9 : \"\u001b[0m\u001b[0;34m)\u001b[0m\u001b[0;34m\u001b[0m\u001b[0;34m\u001b[0m\u001b[0m\n\u001b[0m\u001b[1;32m     13\u001b[0m     \u001b[0;32mwhile\u001b[0m \u001b[0;32mnot\u001b[0m \u001b[0mspace_check\u001b[0m\u001b[0;34m(\u001b[0m\u001b[0mboard\u001b[0m\u001b[0;34m,\u001b[0m \u001b[0mint\u001b[0m\u001b[0;34m(\u001b[0m\u001b[0mchoice\u001b[0m\u001b[0;34m)\u001b[0m\u001b[0;34m)\u001b[0m\u001b[0;34m:\u001b[0m\u001b[0;34m\u001b[0m\u001b[0;34m\u001b[0m\u001b[0m\n\u001b[1;32m     14\u001b[0m         \u001b[0mchoice\u001b[0m \u001b[0;34m=\u001b[0m \u001b[0minput\u001b[0m\u001b[0;34m(\u001b[0m\u001b[0;34m\"This space isn't free. Please choose between 1 and 9 : \"\u001b[0m\u001b[0;34m)\u001b[0m\u001b[0;34m\u001b[0m\u001b[0;34m\u001b[0m\u001b[0m\n",
            "\u001b[0;32m/usr/local/lib/python3.7/dist-packages/ipykernel/kernelbase.py\u001b[0m in \u001b[0;36mraw_input\u001b[0;34m(self, prompt)\u001b[0m\n\u001b[1;32m    702\u001b[0m             \u001b[0mself\u001b[0m\u001b[0;34m.\u001b[0m\u001b[0m_parent_ident\u001b[0m\u001b[0;34m,\u001b[0m\u001b[0;34m\u001b[0m\u001b[0;34m\u001b[0m\u001b[0m\n\u001b[1;32m    703\u001b[0m             \u001b[0mself\u001b[0m\u001b[0;34m.\u001b[0m\u001b[0m_parent_header\u001b[0m\u001b[0;34m,\u001b[0m\u001b[0;34m\u001b[0m\u001b[0;34m\u001b[0m\u001b[0m\n\u001b[0;32m--> 704\u001b[0;31m             \u001b[0mpassword\u001b[0m\u001b[0;34m=\u001b[0m\u001b[0;32mFalse\u001b[0m\u001b[0;34m,\u001b[0m\u001b[0;34m\u001b[0m\u001b[0;34m\u001b[0m\u001b[0m\n\u001b[0m\u001b[1;32m    705\u001b[0m         )\n\u001b[1;32m    706\u001b[0m \u001b[0;34m\u001b[0m\u001b[0m\n",
            "\u001b[0;32m/usr/local/lib/python3.7/dist-packages/ipykernel/kernelbase.py\u001b[0m in \u001b[0;36m_input_request\u001b[0;34m(self, prompt, ident, parent, password)\u001b[0m\n\u001b[1;32m    732\u001b[0m             \u001b[0;32mexcept\u001b[0m \u001b[0mKeyboardInterrupt\u001b[0m\u001b[0;34m:\u001b[0m\u001b[0;34m\u001b[0m\u001b[0;34m\u001b[0m\u001b[0m\n\u001b[1;32m    733\u001b[0m                 \u001b[0;31m# re-raise KeyboardInterrupt, to truncate traceback\u001b[0m\u001b[0;34m\u001b[0m\u001b[0;34m\u001b[0m\u001b[0;34m\u001b[0m\u001b[0m\n\u001b[0;32m--> 734\u001b[0;31m                 \u001b[0;32mraise\u001b[0m \u001b[0mKeyboardInterrupt\u001b[0m\u001b[0;34m\u001b[0m\u001b[0;34m\u001b[0m\u001b[0m\n\u001b[0m\u001b[1;32m    735\u001b[0m             \u001b[0;32melse\u001b[0m\u001b[0;34m:\u001b[0m\u001b[0;34m\u001b[0m\u001b[0;34m\u001b[0m\u001b[0m\n\u001b[1;32m    736\u001b[0m                 \u001b[0;32mbreak\u001b[0m\u001b[0;34m\u001b[0m\u001b[0;34m\u001b[0m\u001b[0m\n",
            "\u001b[0;31mKeyboardInterrupt\u001b[0m: "
          ]
        }
      ]
    },
    {
      "cell_type": "markdown",
      "source": [
        "Boom!! Finally now we have the classical Tic-Tac-Toe game ready to play, join us and have a round.I hope you enjoy it. \n",
        "\n"
      ],
      "metadata": {
        "id": "G1L8WNKKvjR9"
      }
    },
    {
      "cell_type": "markdown",
      "source": [
        "# Quantum model"
      ],
      "metadata": {
        "id": "ZHzRGHw6iyR7"
      }
    },
    {
      "cell_type": "markdown",
      "source": [
        "The game will use qiskit quantum to run the model.\n",
        "\n",
        "Will create a board,here is the layout as showes below. "
      ],
      "metadata": {
        "id": "jVRUy3_d3JNH"
      }
    },
    {
      "cell_type": "code",
      "source": [
        "### tic toc toe ###\n",
        "\n",
        "######################################\n",
        "#           #             #          #   \n",
        "#     6     #     7       #    8     # \n",
        "#           #             #          # \n",
        "######################################\n",
        "#           #             #          # \n",
        "#     3     #     4       #    5     # \n",
        "#           #             #          # \n",
        "######################################\n",
        "#           #             #          #  \n",
        "#     0     #     1       #     2    #   \n",
        "#           #             #          # \n",
        "######################################\n"
      ],
      "metadata": {
        "id": "isj3bfWflUOY"
      },
      "execution_count": null,
      "outputs": []
    },
    {
      "cell_type": "markdown",
      "source": [
        "Now initialize the qubit state on the board represented as state 0> for player one and state 1> for player two, with the remaining tiles representing an entangled state."
      ],
      "metadata": {
        "id": "2BDc4NkY4iet"
      }
    },
    {
      "cell_type": "code",
      "source": [
        "player_1 = [0] #list of qbits cell as 0 for player1 \n",
        "player_2 = [2,3] #list of qbits cell as 1 for player 2\n",
        "entangled = [(1,6),(7,8),(4,5)] #list the rest of the tiles cells as entangled state |01>+|10>"
      ],
      "metadata": {
        "id": "afUue-aKla9r"
      },
      "execution_count": null,
      "outputs": []
    },
    {
      "cell_type": "markdown",
      "source": [
        "Now set the initial state of the table entered by the user: 0 corresponds to player 1, 1 corresponds to player 2, with the rest corresponding to entanglement state."
      ],
      "metadata": {
        "id": "Sjp72dFhDbvp"
      }
    },
    {
      "cell_type": "code",
      "source": [
        "#translate from lists to initial state matrix\n",
        "initial_ordered = [0,0,0,0,0,0,0,0,0]\n",
        "for inx in range(len(player_1)):\n",
        "    initial_ordered[player_1[inx]]=0\n",
        "for inx in range(len(player_2)):\n",
        "    initial_ordered[player_2[inx]]=1  \n",
        "entg_num = 1  \n",
        "for inx in range(len(entangled)):\n",
        "    initial_ordered[entangled[inx][0]]='e'+str(entg_num )   \n",
        "    initial_ordered[entangled[inx][1]]='e'+str(entg_num  )\n",
        "    entg_num +=1\n",
        "\n",
        "print(str(initial_ordered[6])+'|'+str(initial_ordered[7])+'|'+str(initial_ordered[8]))\n",
        "print('--+--+--')\n",
        "print(str(initial_ordered[3])+'|'+str(initial_ordered[4])+'|'+str(initial_ordered[5]))\n",
        "print('-+--+-')\n",
        "print(str(initial_ordered[0])+'|'+str(initial_ordered[1])+'|'+str(initial_ordered[2]))\n"
      ],
      "metadata": {
        "colab": {
          "base_uri": "https://localhost:8080/"
        },
        "id": "9fPvUaiploaJ",
        "outputId": "0fa616ea-32e0-4f21-ed79-838ab5305305"
      },
      "execution_count": null,
      "outputs": [
        {
          "output_type": "stream",
          "name": "stdout",
          "text": [
            "e1|e2|e2\n",
            "--+--+--\n",
            "1|e3|e3\n",
            "-+--+-\n",
            "0|e1|1\n"
          ]
        }
      ]
    },
    {
      "cell_type": "markdown",
      "source": [
        "# Gates and States\n",
        "\n",
        "H-gate, X-gate and Cnot gate allow to use of the bell state.However, the game will perform the following moves as it listed below:\n",
        "\n",
        "* **Hadamard Gate**: we will use H-gate to bring a qubit into a superposition state. However, using the Hadamard Gate to a qubit that's in-state |0> brings the qubit during a superposition state wherever the likelihood of mensuration zero is adequate to measure one. for more information about the H-gate, see this [link]((https://qiskit.org/textbook/ch-states/single-qubit-gates.html#hgate)\n",
        "* **X-gate**: We will use the X-gate, also known as Not-gate, instead of flipping the stat 0 to 1 and vice versa.\n",
        "\n",
        "* **CNOT gate**: The Cnot gate can control two-qubit, where the first qubit will know as the control qubit, and the second qubit will be known as the target qubit.\n",
        "* **Measurement**: The ability to compute the qubits after each state.\n",
        "\n"
      ],
      "metadata": {
        "id": "zbxEcdVrFTG2"
      }
    },
    {
      "cell_type": "code",
      "source": [
        "#Quantum circuit to represent the tiles\n",
        "# Create a Quantum Circuit acting on the q register\n",
        "circuit = QuantumCircuit(9, 9)\n",
        "circuit.name = \"Quantum Tic-toc-toe\"\n",
        "\n",
        "for inx  in range(len(player_2)):\n",
        "    circuit.x(player_2[inx])\n",
        "\n",
        "for inx in range(len(entangled)):\n",
        "    circuit.h(entangled[inx][0]) #hardamard gate\n",
        "    circuit.x(entangled[inx][1]) #x gate\n",
        "    circuit.cx(entangled[inx][0],entangled[inx][1]) #controlled-x gate\n",
        "    \n",
        "circuit.measure(list(range(9)), list(range(9)))\n",
        "\n",
        "# Print out the circuit\n",
        "print('This is the corresponding quantum circuit from the users input')\n",
        "#draw circuit\n",
        "circuit.draw()"
      ],
      "metadata": {
        "colab": {
          "base_uri": "https://localhost:8080/",
          "height": 357
        },
        "id": "yAO_kL2joL4A",
        "outputId": "054bb2b4-c318-4063-f082-62e7c1a1e27e"
      },
      "execution_count": null,
      "outputs": [
        {
          "output_type": "stream",
          "name": "stdout",
          "text": [
            "This is the corresponding quantum circuit from the users input\n"
          ]
        },
        {
          "output_type": "execute_result",
          "data": {
            "text/plain": [
              "          ┌─┐                               \n",
              "q_0: ─────┤M├───────────────────────────────\n",
              "     ┌───┐└╥┘                ┌─┐            \n",
              "q_1: ┤ H ├─╫───■─────────────┤M├────────────\n",
              "     ├───┤ ║   │       ┌─┐   └╥┘            \n",
              "q_2: ┤ X ├─╫───┼───────┤M├────╫─────────────\n",
              "     ├───┤ ║   │       └╥┘┌─┐ ║             \n",
              "q_3: ┤ X ├─╫───┼────────╫─┤M├─╫─────────────\n",
              "     ├───┤ ║   │        ║ └╥┘ ║ ┌─┐         \n",
              "q_4: ┤ H ├─╫───┼────■───╫──╫──╫─┤M├─────────\n",
              "     ├───┤ ║   │  ┌─┴─┐ ║  ║  ║ └╥┘┌─┐      \n",
              "q_5: ┤ X ├─╫───┼──┤ X ├─╫──╫──╫──╫─┤M├──────\n",
              "     ├───┤ ║ ┌─┴─┐└┬─┬┘ ║  ║  ║  ║ └╥┘      \n",
              "q_6: ┤ X ├─╫─┤ X ├─┤M├──╫──╫──╫──╫──╫───────\n",
              "     ├───┤ ║ └───┘ └╥┘  ║  ║  ║  ║  ║ ┌─┐   \n",
              "q_7: ┤ H ├─╫───■────╫───╫──╫──╫──╫──╫─┤M├───\n",
              "     ├───┤ ║ ┌─┴─┐  ║   ║  ║  ║  ║  ║ └╥┘┌─┐\n",
              "q_8: ┤ X ├─╫─┤ X ├──╫───╫──╫──╫──╫──╫──╫─┤M├\n",
              "     └───┘ ║ └───┘  ║   ║  ║  ║  ║  ║  ║ └╥┘\n",
              "c: 9/══════╩════════╩═══╩══╩══╩══╩══╩══╩══╩═\n",
              "           0        6   2  3  1  4  5  7  8 "
            ],
            "text/html": [
              "<pre style=\"word-wrap: normal;white-space: pre;background: #fff0;line-height: 1.1;font-family: &quot;Courier New&quot;,Courier,monospace\">          ┌─┐                               \n",
              "q_0: ─────┤M├───────────────────────────────\n",
              "     ┌───┐└╥┘                ┌─┐            \n",
              "q_1: ┤ H ├─╫───■─────────────┤M├────────────\n",
              "     ├───┤ ║   │       ┌─┐   └╥┘            \n",
              "q_2: ┤ X ├─╫───┼───────┤M├────╫─────────────\n",
              "     ├───┤ ║   │       └╥┘┌─┐ ║             \n",
              "q_3: ┤ X ├─╫───┼────────╫─┤M├─╫─────────────\n",
              "     ├───┤ ║   │        ║ └╥┘ ║ ┌─┐         \n",
              "q_4: ┤ H ├─╫───┼────■───╫──╫──╫─┤M├─────────\n",
              "     ├───┤ ║   │  ┌─┴─┐ ║  ║  ║ └╥┘┌─┐      \n",
              "q_5: ┤ X ├─╫───┼──┤ X ├─╫──╫──╫──╫─┤M├──────\n",
              "     ├───┤ ║ ┌─┴─┐└┬─┬┘ ║  ║  ║  ║ └╥┘      \n",
              "q_6: ┤ X ├─╫─┤ X ├─┤M├──╫──╫──╫──╫──╫───────\n",
              "     ├───┤ ║ └───┘ └╥┘  ║  ║  ║  ║  ║ ┌─┐   \n",
              "q_7: ┤ H ├─╫───■────╫───╫──╫──╫──╫──╫─┤M├───\n",
              "     ├───┤ ║ ┌─┴─┐  ║   ║  ║  ║  ║  ║ └╥┘┌─┐\n",
              "q_8: ┤ X ├─╫─┤ X ├──╫───╫──╫──╫──╫──╫──╫─┤M├\n",
              "     └───┘ ║ └───┘  ║   ║  ║  ║  ║  ║  ║ └╥┘\n",
              "c: 9/══════╩════════╩═══╩══╩══╩══╩══╩══╩══╩═\n",
              "           0        6   2  3  1  4  5  7  8 </pre>"
            ]
          },
          "metadata": {},
          "execution_count": 13
        }
      ]
    },
    {
      "cell_type": "markdown",
      "source": [
        "As you'll be able to see here, outline the game-winner rules, and it's nearly a similar as within the previse game. Once the entangled state collapses, one among the tiles can randomly select to decide the winner on the opposite side. Also, the result are regularly dynamic supported a random choice of collapse states of entangled."
      ],
      "metadata": {
        "id": "Zomo_XuqTWuV"
      }
    },
    {
      "cell_type": "code",
      "source": [
        "# Check winner\n",
        "\n",
        "def win_check(board, mark):\n",
        "    if board[0] == board[1] == board[2] == mark:# across the top\n",
        "          return True\n",
        "    if board[3] == board[4] == board[5] == mark:# across the middle\n",
        "        return True\n",
        "    if board[6] == board[7] == board[8] == mark:# across the bottom\n",
        "        return True\n",
        "    if board[0] == board[3] == board[6] == mark:# down the left side\n",
        "        return True\n",
        "    if board[1] == board[4] == board[7] == mark:# down the middle\n",
        "        return True\n",
        "    if board[2] == board[5] == board[8] == mark:# down the right side\n",
        "        return True\n",
        "    if board[0] == board[4] == board[8] == mark:# diagonal\n",
        "        return True\n",
        "    if board[2] == board[5] == board[6] == mark:# diagonal\n",
        "        return True\n",
        "    return False\n",
        "\n",
        "\n",
        "wins_p1=1 \n",
        "wins_p2=0\n",
        "\n",
        "while (wins_p1 or wins_p2) and not(wins_p1 and wins_p2):\n",
        "    print('Running the quantum circuit...')\n",
        "    wins_p1=0 \n",
        "    wins_p2=0\n",
        "    job = execute(circuit, BasicAer.get_backend('qasm_simulator'), shots=1)\n",
        "    result = job.result()\n",
        "    final_ordered=list(map(lambda x: int(x),list(list(result.get_counts().keys())[0][::-1])))\n",
        "    print(final_ordered)\n",
        "    #list with ordered cells\n",
        "    print('The colapsed state is:')\n",
        "    print(str(final_ordered[6])+'|'+str(final_ordered[7])+'|'+str(final_ordered[8]))\n",
        "    print('-+-+-')\n",
        "    print(str(final_ordered[3])+'|'+str(final_ordered[4])+'|'+str(final_ordered[5]))\n",
        "    print('-+-+-')\n",
        "    print(str(final_ordered[0])+'|'+str(final_ordered[1])+'|'+str(final_ordered[2]))\n",
        "   \n",
        "\n",
        "    if (win_check(final_ordered,0) ):# check if player 1 won\n",
        "        print('Player 1 won!')\n",
        "        wins_p1 = 1\n",
        "    else:\n",
        "        wins_p2 = 0\n",
        "\n",
        "    if (win_check(final_ordered,1)): #to check if player 2 won\n",
        "        print('Player 2 won!')\n",
        "        wins_p1 = 1\n",
        "    else:\n",
        "        wins_p2 = 0\n",
        "\n",
        "    if (wins_p1 or wins_p2) and not(wins_p1 and wins_p2):\n",
        "        break\n",
        "\n",
        "    if wins_p1 and wins_p2:\n",
        "        print('The game will repeat until one one player wins')\n",
        "\n",
        "    if not(wins_p1 and wins_p2):\n",
        "        print('No winners,\\nThe game will repeat until one one player wins')\n"
      ],
      "metadata": {
        "colab": {
          "base_uri": "https://localhost:8080/"
        },
        "id": "mD-aBF4YoOVU",
        "outputId": "a358bad9-9af6-488b-8483-8965f429d7c3"
      },
      "execution_count": null,
      "outputs": [
        {
          "output_type": "stream",
          "name": "stdout",
          "text": [
            "Running the quantum circuit...\n",
            "[0, 1, 1, 1, 1, 0, 0, 1, 0]\n",
            "The colapsed state is:\n",
            "0|1|0\n",
            "-+-+-\n",
            "1|1|0\n",
            "-+-+-\n",
            "0|1|1\n",
            "Player 2 won!\n"
          ]
        }
      ]
    },
    {
      "cell_type": "markdown",
      "source": [
        "Boom! That's what I can currently cover in terms of quantum computing. Hopefully, with more practice, I'll become more familiar with quantum computing. \n",
        " \n",
        "Thank you!"
      ],
      "metadata": {
        "id": "_ktzsOpXWhFa"
      }
    }
  ],
  "metadata": {
    "colab": {
      "provenance": [],
      "collapsed_sections": []
    },
    "kernelspec": {
      "display_name": "Python 3",
      "name": "python3"
    },
    "language_info": {
      "name": "python"
    }
  },
  "nbformat": 4,
  "nbformat_minor": 0
}