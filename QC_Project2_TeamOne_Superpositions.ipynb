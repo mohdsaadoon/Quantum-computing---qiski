{
  "nbformat": 4,
  "nbformat_minor": 0,
  "metadata": {
    "colab": {
      "provenance": [],
      "machine_shape": "hm"
    },
    "kernelspec": {
      "name": "python3",
      "display_name": "Python 3"
    },
    "language_info": {
      "name": "python"
    },
    "accelerator": "GPU"
  },
  "cells": [
    {
      "cell_type": "markdown",
      "source": [
        "#Introdaction to Quantum computing\n",
        "####Quantum Surgery\n",
        "\n",
        "Auther:Mohammad Sa'adoon - Mohammadkahlil.m.saadoon@student.uts.edu.au\n",
        "\n",
        "In this notebook, we will walk through one of the key principles in Quantum Computing is Superposition. This notebook aims to give a holistic idea of the term Superposition."
      ],
      "metadata": {
        "id": "C5QZlpzLiSHu"
      }
    },
    {
      "cell_type": "markdown",
      "source": [
        " Importing necessary libraries before we go."
      ],
      "metadata": {
        "id": "RNGF-SGUsHq-"
      }
    },
    {
      "cell_type": "code",
      "source": [
        "#@markdown Make sure that you have all these libaries available to run the code successfully ;)\n",
        "!pip install qiskit --quiet\n",
        "!pip install pylatexenc --quiet\n",
        "\n",
        "import numpy as np\n",
        "import requests\n",
        "import os\n",
        "import json\n",
        "import base64\n",
        "import qiskit.result\n",
        "from IPython.core.display import Javascript\n",
        "from qiskit import *\n",
        "from google.colab import output\n",
        "import IPython\n",
        "import io\n",
        "import types \n",
        "import typing\n",
        "import qiskit as q\n",
        "import qiskit.providers as p\n",
        "import qiskit.visualization as qv\n",
        "from qiskit import QuantumCircuit, BasicAer, execute\n",
        "from qiskit.visualization import plot_histogram\n",
        "%matplotlib inline\n",
        "#@markdown Current Quokka address:\n",
        "\n",
        "#@markdown req_str = 'http://4d80-138-25-210-65.ngrok.io/qsim/perform_operation'\n",
        "req_str = 'http://4d80-138-25-210-65.ngrok.io/qsim/perform_operation'\n",
        "#@markdown req_str_qasm = 'http://4d80-138-25-210-65.ngrok.io/qsim/qasm'\n",
        "req_str_qasm = 'http://4d80-138-25-210-65.ngrok.io/qsim/qasm'"
      ],
      "metadata": {
        "id": "dN6b72M-r2Wo"
      },
      "execution_count": null,
      "outputs": []
    },
    {
      "cell_type": "markdown",
      "source": [
        "#Introdaction to Quantum Superpositions\n",
        "\n",
        "Quantum computers are based on quantum superposition, and it is a phenomenon associated with a quantum system. Through superposition, quantum objects can exist in more than one state or location simultaneously. [Microsoft's](https://docs.microsoft.com/en-us/azure/quantum/overview-understanding-quantum-computing) quantum computing team gives an excellent example of a superposition state, e.g. \"Imagine that you are exercising in your living room. You turn to your left and then all the way to your right. Now turn to your left and your right at the same time. You cannot do it (not without splitting yourself in two, at least). You cannot be in both of those states at once – you cannot be facing left and right simultaneously.\"\n",
        "\n",
        "The famous classical exmple of superpostion [Schrödinger’s cat](https://www.youtube.com/watch?v=67MG6_N0msg). In short, Schrödinger's thought is to put a cat in a closed box and predict if the cat is both dead and alive simultaneously. In that state, the cat is in superposition form until we open the box and observe the condition. The following equation will give more intuition about the superposition state.\n",
        "\n",
        "\\begin{equation}\n",
        "    |+ \\rangle = \\frac{1}{\\sqrt{2}} (|0 \\rangle + |1 \\rangle) \\\\\n",
        "    |- \\rangle = \\frac{1}{\\sqrt{2}} (|0 \\rangle - |1 \\rangle) \\\\\n",
        "\\end{equation}\n",
        "\n",
        "\n",
        "\n",
        "\n",
        "To play with a simple model of qubits and generate a superposition state. The Hadamard gate allows converting from basis state to superposition state and vice versa. We can see that this performs the transformations below:\n",
        "\n",
        "\\begin{equation}\n",
        "  H = \\frac{1}{\\sqrt{2}} \\begin{bmatrix}\n",
        "    1 & 1 \\\\\n",
        "    1 & -1 \\\\\n",
        "  \\end{bmatrix} \\\\\n",
        "   H |0 \\rangle \\mapsto |+ \\rangle \\\\\n",
        "   H |1 \\rangle \\mapsto |- \\rangle \\\\\n",
        "\\end{equation}\n",
        "\n",
        "let's get our hands dirty with code..."
      ],
      "metadata": {
        "id": "ahVOg37yrb4w"
      }
    },
    {
      "cell_type": "markdown",
      "source": [
        "# Superpositions in Qiskit \n",
        "Let's create a very basic quantum circuit using a Hadamard gate."
      ],
      "metadata": {
        "id": "Xro1SVglrIQa"
      }
    },
    {
      "cell_type": "code",
      "source": [
        "#create a one qubit quantum circuit\n",
        "qc = qiskit.QuantumCircuit(1,1)\n",
        "#do the Hadamard gate\n",
        "qc.h(0)\n",
        "#measure the qubit\n",
        "qc.measure(0,0)\n",
        "#view our circuit\n",
        "qc.draw(initial_state=True, output=\"mpl\")\n"
      ],
      "metadata": {
        "colab": {
          "base_uri": "https://localhost:8080/",
          "height": 140
        },
        "id": "loerNuGOruIO",
        "outputId": "6433c1d9-5025-44bf-ed26-ad57f6fa2e36"
      },
      "execution_count": null,
      "outputs": [
        {
          "output_type": "execute_result",
          "data": {
            "text/plain": [
              "<Figure size 237.569x144.48 with 1 Axes>"
            ],
            "image/png": "[encoded data removed]"
          },
          "metadata": {},
          "execution_count": 11
        }
      ]
    },
    {
      "cell_type": "markdown",
      "source": [
        "To simulate the created circite and define the Superposition state. We can see that by running the circuit many times, seeing the measured value every time get different values and plotting the results in a histogram.The result will be either 0's or 1's."
      ],
      "metadata": {
        "id": "KADqzA8C2ajv"
      }
    },
    {
      "cell_type": "code",
      "source": [
        "sim = qiskit.Aer.get_backend('aer_simulator')\n",
        "qobj = qiskit.assemble(qc)\n",
        "results = sim.run(qobj).result().get_counts()\n",
        "qiskit.visualization.plot_histogram(results)"
      ],
      "metadata": {
        "colab": {
          "base_uri": "https://localhost:8080/",
          "height": 325
        },
        "id": "0ViMTD9kwcBp",
        "outputId": "290b8cea-3f9a-4bef-d297-c889fcbb04a4"
      },
      "execution_count": null,
      "outputs": [
        {
          "output_type": "execute_result",
          "data": {
            "text/plain": [
              "<Figure size 504x360 with 1 Axes>"
            ],
            "image/png": "[encoded data removed]"
          },
          "metadata": {},
          "execution_count": 12
        }
      ]
    },
    {
      "cell_type": "markdown",
      "source": [
        "#The power of Superpositions in Deutsch-Jozsa algorithm\n",
        "\n",
        "Let us take a further step and dive deeper into the Superposition universe. As we mentioned earlier, superposition can generate an implicit power in solving computing problems—one of the great algorithms that could prove that, such as the Deutsch-Jozsa algorithm.\n",
        "\n",
        "The [Deutsch-Jozsa algorithm](\"https://qiskit.org/textbook/ch-algorithms/deutsch-jozsa.html\") define as\n",
        "\n",
        "Let us say we have a hidden boolean function $f$ which takes a set of input of bits and will return either 0 or 1. we know the boolean function has two forms balanced or constant. A constant for any input, the output will be either 0's or 1's, or the balanced function will return 0's for half of the input and 1's for the other half.\n",
        "\n",
        "\n",
        "Using classical computation, we could quickly check if the function is balanced: e.g. if both $f(0,0,0,...)$ and $f(1,0,0,...)$,we would know if the function return different output. However, on the other side, we have to take also the worst-case scenario. We need to measure half of all possible inputs +1 to know whether the function is balanced or constant.\n",
        "\n",
        "\n",
        "Let us simulate in a quantum solution, consider instead using $2^{(N-1)}+1$ function to accomplish a constant call. However, we could implement that using a quantum oracle function(boolean function) as a one-shot learner. However, we need to remember that we use a quantum superposition that will affect our qubit state to determine if the function calls constant and balanced.\n",
        "\n",
        "The example below represents the performance of the Deutsch-Jozsa using the oracle function."
      ],
      "metadata": {
        "id": "BsdHMv6dPatY"
      }
    },
    {
      "cell_type": "code",
      "source": [
        "# Reference: https://qiskit.org/textbook/ch-algorithms/deutsch-jozsa.html\n",
        "\n",
        "N = 4 \n",
        "def dj_algo_oracle(type, N):\n",
        "  oracle = q.QuantumCircuit(N + 1)\n",
        "\n",
        "  if type == \"bal\":\n",
        "    rand = np.random.randint(1, 2**N)\n",
        "    bit_rep = format(rand, f'0{str(N)}b')\n",
        "    for qubit in range(len(bit_rep)):\n",
        "      oracle.x(qubit) if bit_rep[qubit] == '1' else None\n",
        "\n",
        "    for i in range(N):\n",
        "      oracle.cx(i, N)\n",
        "\n",
        "    for i in range(len(bit_rep)):\n",
        "      oracle.x(i) if bit_rep[i] == '1' else None\n",
        "\n",
        "  if type == \"const\":\n",
        "    oracle.x(N) if np.random.randint(2) == 1 else None\n",
        "    \n",
        "  gate = oracle.to_gate()\n",
        "  gate.name = \"Boolean Oracle\"\n",
        "  return gate\n",
        "\n",
        "def dj_algo(gate, n):\n",
        "\n",
        "  dj = q.QuantumCircuit(N + 1, N)\n",
        "  for i in range(N):\n",
        "    dj.h(i)\n",
        "\n",
        "  dj.x(N)\n",
        "  dj.h(N)\n",
        "\n",
        "  dj.compose(gate, inplace=True)\n",
        "  for i in range(N):\n",
        "    dj.h(i)\n",
        "\n",
        "  dj.barrier()\n",
        "\n",
        "  for i in range(N):\n",
        "    dj.measure(i,i)\n",
        "\n",
        "  return dj\n",
        "\n",
        "gate = dj_algo_oracle('bal', N)\n",
        "dj = dj_algo(gate, N)\n",
        "\n",
        "\n",
        "aer = q.Aer.get_backend('aer_simulator')\n",
        "trans = q.transpile(dj, aer)\n",
        "asm = q.assemble(trans)\n",
        "res = aer.run(asm).result()\n",
        "ans = res.get_counts()\n",
        "\n",
        "display(dj.draw(output=\"mpl\"), qv.plot_histogram(ans))\n",
        "\n"
      ],
      "metadata": {
        "colab": {
          "base_uri": "https://localhost:8080/",
          "height": 653
        },
        "id": "q1NTpFlz7_O4",
        "outputId": "d500c253-6cb1-4163-8537-3305d7307061"
      },
      "execution_count": null,
      "outputs": [
        {
          "output_type": "display_data",
          "data": {
            "text/plain": [
              "<Figure size 748.797x385.28 with 1 Axes>"
            ],
            "image/png": "[encoded data removed]"
          },
          "metadata": {}
        },
        {
          "output_type": "display_data",
          "data": {
            "text/plain": [
              "<Figure size 504x360 with 1 Axes>"
            ],
            "image/png": "[encoded data removed]"
          },
          "metadata": {}
        }
      ]
    },
    {
      "cell_type": "markdown",
      "source": [
        "Before we end up with this section, we must admit that using the superposition has shown impressive outcomes when applied in quantum computing algorithms."
      ],
      "metadata": {
        "id": "PYz6Dz9tOcqL"
      }
    },
    {
      "cell_type": "markdown",
      "source": [
        "# Superpositions in Quokka \n",
        "\n",
        "Now let us try to get our hands dirty with the Quokka device. To set that up, we need to convert that to QASM.QASM is a Quantum Assembly Language where the file can generate quantum circuits. We could do that by using Qiskit, which has a built-in QASM converter.\n",
        "\n",
        "For QASM version 2, we have to stick with specific rules that will help run the program correctly.\n",
        "\n",
        "\n",
        "*   Define the version of QASM are using in our case will be  **OPENQASM 2.0**\n",
        "*   Define another file by including **include \"filename\"**\n",
        "*   Define either a unitary gate as **gate name ()**, or opaque gate as **opaque gate()**.\n",
        "*   Define register of qubits or bits as **qreg q[]**, **creg c[]**.\n",
        "\n",
        "We can inside any of these registers perform some operations, such as:\n",
        "*   Add a bit in CNOT gates could help to generate another gate like X gate, Hadamard gate **CX q[0],q[1]** \n",
        "*   Measure the result of the qubit register to classical **measure q-> c;**\n",
        "*   Reset the qubit to the balance state **reset q[0]**\n",
        "*   Conditional apply quantum operation **(if creg==q)**.\n",
        "\n",
        "For more details, I would recommend referring to the [QASM documention](https://arxiv.org/abs/1707.03429).\n",
        "\n",
        "\n",
        "\n",
        "\n",
        "Using the function below, we can convert to QASM.\n",
        "\n",
        "\n",
        "\n"
      ],
      "metadata": {
        "id": "rrq6dkYT9cjc"
      }
    },
    {
      "cell_type": "code",
      "source": [
        "def qasm(code, print_vector=True):\n",
        "    data = {\n",
        "        'script': code,\n",
        "        'count': 1,\n",
        "        'state_vector': print_vector\n",
        "    }\n",
        "    result = requests.post(req_str_qasm, json=data)\n",
        "    \n",
        "    return json.loads(result.content)\n",
        "\n",
        "res = qasm(\"\"\"\n",
        "OPENQASM 2.0;\n",
        "qreg qr[2];\n",
        "x qr[1];\n",
        "\"\"\")\n",
        "print(\"Output: {}\".format(res['result']['qr'][0][0]['binary_pattern'][::-1]))"
      ],
      "metadata": {
        "colab": {
          "base_uri": "https://localhost:8080/"
        },
        "id": "bgDGt7cP9osH",
        "outputId": "ecf8b30e-6d37-4a79-b54a-31b1542daeb0"
      },
      "execution_count": null,
      "outputs": [
        {
          "output_type": "stream",
          "name": "stdout",
          "text": [
            "Output: 01\n"
          ]
        }
      ]
    },
    {
      "cell_type": "markdown",
      "source": [
        "The code below represents an example of Quantum Fourier Transform (QFT)and measure.For more information about [QFT](https://qiskit.org/textbook/ch-algorithms/quantum-fourier-transform.html), refer to the qiskit text book."
      ],
      "metadata": {
        "id": "2dM-SvpVXKK3"
      }
    },
    {
      "cell_type": "code",
      "source": [
        "#https://github.com/openqasm/openqasm/blob/OpenQASM2.x/examples/teleport.qasm\n",
        "qasm_str = \"\"\"OPENQASM 2.0;\n",
        "include \"qelib1.inc\";\n",
        "qreg q[4];\n",
        "creg c0[1];\n",
        "creg c1[1];\n",
        "creg c2[1];\n",
        "creg c3[1];\n",
        "h q;\n",
        "barrier q;\n",
        "h q[0];\n",
        "measure q[0] -> c0[0];\n",
        "if(c0==1) u1(pi/2) q[1];\n",
        "h q[1];\n",
        "measure q[1] -> c1[0];\n",
        "if(c0==1) u1(pi/4) q[2];\n",
        "if(c1==1) u1(pi/2) q[2];\n",
        "h q[2];\n",
        "measure q[2] -> c2[0];\n",
        "if(c0==1) u1(pi/8) q[3];\n",
        "if(c1==1) u1(pi/4) q[3];\n",
        "if(c2==1) u1(pi/2) q[3];\n",
        "h q[3];\n",
        "measure q[3] -> c3[0];\n",
        "\"\"\"\n",
        "# You can choose other backend also.\n",
        "backend = BasicAer.get_backend(\"qasm_simulator\")\n",
        "message = qiskit.execute(qc, backend, shots=1).result().get_counts()\n",
        "\n",
        "# Execute the circuit and show the result.\n",
        "job = execute(qc,backend)\n",
        "result = job.result()\n",
        "counts =result.get_counts()\n",
        "\n",
        "print(message)\n",
        "plot_histogram(job.result().get_counts(), color='midnightblue', title=\"QFT V2\")"
      ],
      "metadata": {
        "id": "bF3z0WHgoO7y",
        "colab": {
          "base_uri": "https://localhost:8080/",
          "height": 357
        },
        "outputId": "11b5bba4-e96e-4023-a6ce-a6a441855c57"
      },
      "execution_count": null,
      "outputs": [
        {
          "output_type": "stream",
          "name": "stdout",
          "text": [
            "{'1': 1}\n"
          ]
        },
        {
          "output_type": "execute_result",
          "data": {
            "text/plain": [
              "<Figure size 504x360 with 1 Axes>"
            ],
            "image/png": "[encoded data removed]"
          },
          "metadata": {},
          "execution_count": 23
        }
      ]
    },
    {
      "cell_type": "code",
      "source": [
        "\n",
        "#https://github.com/openqasm/openqasm/blob/main/examples/inverseqft1.qasm\n",
        "qasm_str = \"\"\"\n",
        "OPENQASM 3;\n",
        "include \"stdgates.inc\";\n",
        "\n",
        "qubit[4] q;\n",
        "bit[4] c;\n",
        "reset q;\n",
        "h q;\n",
        "barrier q;\n",
        "h q[0];\n",
        "c[0] = measure q[0];\n",
        "if(int[4](c) == 1) { rz(pi / 2) q[1]; }\n",
        "h q[1];\n",
        "c[1] = measure q[1];\n",
        "if(int[4](c) == 1){ rz(pi / 4) q[2]; }\n",
        "if(int[4](c) == 2){ rz(pi / 2) q[2]; }\n",
        "if(int[4](c) == 3){ rz(pi / 2 + pi / 4) q[2]; }\n",
        "h q[2];\n",
        "c[2] = measure q[2];\n",
        "if(int[4](c) == 1) rz(pi / 8) q[3];\n",
        "if(int[4](c) == 2) rz(pi / 4) q[3];\n",
        "if(int[4](c) == 3) rz(pi/4+pi/8) q[3];\n",
        "if(int[4](c) == 4) rz(pi / 2) q[3];\n",
        "if(int[4](c) == 5) rz(pi / 2 + pi / 8) q[3];\n",
        "if(int[4](c) == 6) rz(pi / 2+ pi / 4) q[3];\n",
        "if(int[4](c) == 7) rz(pi / 2 + pi / 4 + pi / 8) q[3];\n",
        "h q[3];\n",
        "c[3] = measure q[3];\n",
        "\"\"\"\n",
        "# You can choose other backend also.\n",
        "backend = BasicAer.get_backend(\"qasm_simulator\")\n",
        "message = qiskit.execute(qc, backend, shots=1).result().get_counts()\n",
        "\n",
        "# Execute the circuit and show the result.\n",
        "job = execute(qc,backend)\n",
        "result = job.result()\n",
        "counts =result.get_counts()\n",
        "\n",
        "print(message)\n",
        "plot_histogram(job.result().get_counts(), color='midnightblue', title=\"QFT V3\")"
      ],
      "metadata": {
        "colab": {
          "base_uri": "https://localhost:8080/",
          "height": 357
        },
        "id": "eWIT6M1SaMC1",
        "outputId": "6b7a3284-fba5-452f-b56f-033c4b4093f7"
      },
      "execution_count": null,
      "outputs": [
        {
          "output_type": "stream",
          "name": "stdout",
          "text": [
            "{'1': 1}\n"
          ]
        },
        {
          "output_type": "execute_result",
          "data": {
            "text/plain": [
              "<Figure size 504x360 with 1 Axes>"
            ],
            "image/png": "[encoded data removed]"
          },
          "metadata": {},
          "execution_count": 22
        }
      ]
    },
    {
      "cell_type": "markdown",
      "source": [
        "Lastly, I hope you enjoyed the tour. For a warm-up, look at both codes above and tell the difference between QASM v2 and QASM v3. Try to implement QPE ;)"
      ],
      "metadata": {
        "id": "8E4wqx8_a1oo"
      }
    },
    {
      "cell_type": "markdown",
      "source": [
        "#References\n",
        "\n",
        "\n",
        "\n",
        "\n",
        "\n",
        "*   [Open Quantum Assembly Language](https://arxiv.org/abs/1707.03429)\n",
        "*   [Quantum Computing as a High School Module](https://arxiv.org/abs/1905.00282)\n",
        "*   [Deutsch-Jozsa algorithm](\"https://qiskit.org/textbook/ch-algorithms/deutsch-jozsa.html\")\n",
        "*   [Understanding quantum computing](\"https://docs.microsoft.com/en-us/azure/quantum/overview-understanding-quantum-computing\")\n",
        "\n",
        "\n",
        "\n",
        "\n"
      ],
      "metadata": {
        "id": "fA2MJyMMKgzt"
      }
    }
  ]
}